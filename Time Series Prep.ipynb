{
 "cells": [
  {
   "cell_type": "code",
   "execution_count": 149,
   "id": "dietary-terrace",
   "metadata": {},
   "outputs": [],
   "source": [
    "import pandas as pd"
   ]
  },
  {
   "cell_type": "code",
   "execution_count": 150,
   "id": "nuclear-secretariat",
   "metadata": {},
   "outputs": [],
   "source": [
    "temp_file = pd.read_csv('Milestone 1 Dataset\\hr_temp_20170201-20200131_subset.csv')\n",
    "energy_file = pd.read_csv('Milestone 1 Dataset\\hrl_load_metered - 20170201-20200131.csv')\n"
   ]
  },
  {
   "cell_type": "code",
   "execution_count": 151,
   "id": "grateful-timeline",
   "metadata": {},
   "outputs": [],
   "source": [
    "temp_file['ts'] = pd.to_datetime(temp_file.DATE).dt.floor('h')\n",
    "temp = temp_file[['ts','HourlyDryBulbTemperature']]\n",
    "\n",
    "energy_file['ts'] = pd.to_datetime(energy_file.datetime_beginning_ept).dt.floor('h')\n",
    "energy = energy_file[['ts','mw']]"
   ]
  },
  {
   "cell_type": "code",
   "execution_count": 152,
   "id": "forced-particle",
   "metadata": {},
   "outputs": [],
   "source": [
    "c = pd.merge(energy,temp,how=\"left\")"
   ]
  },
  {
   "cell_type": "code",
   "execution_count": 153,
   "id": "willing-cradle",
   "metadata": {},
   "outputs": [],
   "source": [
    "c['hour'] = c.ts.dt.hour\n",
    "c['dow'] = c.ts.dt.weekday\n",
    "c['month'] = c.ts.dt.month\n",
    "c['year'] = c.ts.dt.year\n"
   ]
  },
  {
   "cell_type": "code",
   "execution_count": 154,
   "id": "subject-spending",
   "metadata": {},
   "outputs": [
    {
     "data": {
      "text/plain": [
       "(26280, 7)"
      ]
     },
     "execution_count": 154,
     "metadata": {},
     "output_type": "execute_result"
    }
   ],
   "source": [
    "c.shape"
   ]
  },
  {
   "cell_type": "code",
   "execution_count": 155,
   "id": "widespread-approval",
   "metadata": {},
   "outputs": [],
   "source": [
    "c.set_index('ts',inplace=True)"
   ]
  },
  {
   "cell_type": "code",
   "execution_count": 156,
   "id": "alpine-armenia",
   "metadata": {},
   "outputs": [
    {
     "data": {
      "text/html": [
       "<div>\n",
       "<style scoped>\n",
       "    .dataframe tbody tr th:only-of-type {\n",
       "        vertical-align: middle;\n",
       "    }\n",
       "\n",
       "    .dataframe tbody tr th {\n",
       "        vertical-align: top;\n",
       "    }\n",
       "\n",
       "    .dataframe thead th {\n",
       "        text-align: right;\n",
       "    }\n",
       "</style>\n",
       "<table border=\"1\" class=\"dataframe\">\n",
       "  <thead>\n",
       "    <tr style=\"text-align: right;\">\n",
       "      <th></th>\n",
       "      <th>mw</th>\n",
       "      <th>HourlyDryBulbTemperature</th>\n",
       "      <th>hour</th>\n",
       "      <th>dow</th>\n",
       "      <th>month</th>\n",
       "      <th>year</th>\n",
       "    </tr>\n",
       "    <tr>\n",
       "      <th>ts</th>\n",
       "      <th></th>\n",
       "      <th></th>\n",
       "      <th></th>\n",
       "      <th></th>\n",
       "      <th></th>\n",
       "      <th></th>\n",
       "    </tr>\n",
       "  </thead>\n",
       "  <tbody>\n",
       "    <tr>\n",
       "      <th>2017-02-01 00:00:00</th>\n",
       "      <td>1419.881</td>\n",
       "      <td>37.0</td>\n",
       "      <td>0</td>\n",
       "      <td>2</td>\n",
       "      <td>2</td>\n",
       "      <td>2017</td>\n",
       "    </tr>\n",
       "    <tr>\n",
       "      <th>2017-02-01 01:00:00</th>\n",
       "      <td>1379.505</td>\n",
       "      <td>37.0</td>\n",
       "      <td>1</td>\n",
       "      <td>2</td>\n",
       "      <td>2</td>\n",
       "      <td>2017</td>\n",
       "    </tr>\n",
       "    <tr>\n",
       "      <th>2017-02-01 02:00:00</th>\n",
       "      <td>1366.106</td>\n",
       "      <td>36.0</td>\n",
       "      <td>2</td>\n",
       "      <td>2</td>\n",
       "      <td>2</td>\n",
       "      <td>2017</td>\n",
       "    </tr>\n",
       "    <tr>\n",
       "      <th>2017-02-01 03:00:00</th>\n",
       "      <td>1364.453</td>\n",
       "      <td>36.0</td>\n",
       "      <td>3</td>\n",
       "      <td>2</td>\n",
       "      <td>2</td>\n",
       "      <td>2017</td>\n",
       "    </tr>\n",
       "    <tr>\n",
       "      <th>2017-02-01 04:00:00</th>\n",
       "      <td>1391.265</td>\n",
       "      <td>36.0</td>\n",
       "      <td>4</td>\n",
       "      <td>2</td>\n",
       "      <td>2</td>\n",
       "      <td>2017</td>\n",
       "    </tr>\n",
       "  </tbody>\n",
       "</table>\n",
       "</div>"
      ],
      "text/plain": [
       "                           mw  HourlyDryBulbTemperature  hour  dow  month  \\\n",
       "ts                                                                          \n",
       "2017-02-01 00:00:00  1419.881                      37.0     0    2      2   \n",
       "2017-02-01 01:00:00  1379.505                      37.0     1    2      2   \n",
       "2017-02-01 02:00:00  1366.106                      36.0     2    2      2   \n",
       "2017-02-01 03:00:00  1364.453                      36.0     3    2      2   \n",
       "2017-02-01 04:00:00  1391.265                      36.0     4    2      2   \n",
       "\n",
       "                     year  \n",
       "ts                         \n",
       "2017-02-01 00:00:00  2017  \n",
       "2017-02-01 01:00:00  2017  \n",
       "2017-02-01 02:00:00  2017  \n",
       "2017-02-01 03:00:00  2017  \n",
       "2017-02-01 04:00:00  2017  "
      ]
     },
     "execution_count": 156,
     "metadata": {},
     "output_type": "execute_result"
    }
   ],
   "source": [
    "#c.dtypes\n",
    "#type(c['ts'])\n",
    "#print(c)\n",
    "#c.shape\n",
    "c.head()"
   ]
  },
  {
   "cell_type": "code",
   "execution_count": 157,
   "id": "another-summit",
   "metadata": {},
   "outputs": [
    {
     "data": {
      "text/plain": [
       "mw                           0\n",
       "HourlyDryBulbTemperature    37\n",
       "hour                         0\n",
       "dow                          0\n",
       "month                        0\n",
       "year                         0\n",
       "dtype: int64"
      ]
     },
     "execution_count": 157,
     "metadata": {},
     "output_type": "execute_result"
    }
   ],
   "source": [
    "c.isnull().sum()\n",
    "#c.shape"
   ]
  },
  {
   "cell_type": "code",
   "execution_count": 158,
   "id": "sapphire-calcium",
   "metadata": {},
   "outputs": [],
   "source": [
    "c['HourlyDryBulbTemperature'] = c['HourlyDryBulbTemperature'].interpolate(method='time')"
   ]
  },
  {
   "cell_type": "code",
   "execution_count": 159,
   "id": "generous-bulgarian",
   "metadata": {},
   "outputs": [
    {
     "data": {
      "text/plain": [
       "mw                          0\n",
       "HourlyDryBulbTemperature    0\n",
       "hour                        0\n",
       "dow                         0\n",
       "month                       0\n",
       "year                        0\n",
       "dtype: int64"
      ]
     },
     "execution_count": 159,
     "metadata": {},
     "output_type": "execute_result"
    }
   ],
   "source": [
    "c.isnull().sum()"
   ]
  },
  {
   "cell_type": "code",
   "execution_count": 160,
   "id": "controlled-pathology",
   "metadata": {},
   "outputs": [],
   "source": [
    "train = c[c.year<2020]\n",
    "test = c[(c.year==2020) & (c.month==1)]"
   ]
  },
  {
   "cell_type": "code",
   "execution_count": null,
   "id": "metallic-practitioner",
   "metadata": {},
   "outputs": [],
   "source": []
  }
 ],
 "metadata": {
  "kernelspec": {
   "display_name": "Python 3",
   "language": "python",
   "name": "python3"
  },
  "language_info": {
   "codemirror_mode": {
    "name": "ipython",
    "version": 3
   },
   "file_extension": ".py",
   "mimetype": "text/x-python",
   "name": "python",
   "nbconvert_exporter": "python",
   "pygments_lexer": "ipython3",
   "version": "3.8.5"
  }
 },
 "nbformat": 4,
 "nbformat_minor": 5
}
